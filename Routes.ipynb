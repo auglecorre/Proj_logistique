{
 "cells": [
  {
   "cell_type": "code",
   "execution_count": 6,
   "id": "77b8359a",
   "metadata": {},
   "outputs": [],
   "source": [
    "import folium \n",
    "import numpy as np \n",
    "import matplotlib.pyplot as plt\n",
    "import random as rd \n",
    "import requests\n",
    "import json \n",
    "from folium import plugins\n",
    "from folium.plugins import HeatMap\n",
    "import time \n",
    "from networkx import DiGraph\n",
    "from vrpy import VehicleRoutingProblem\n",
    "import random as rd \n",
    "from time import * \n",
    "\n",
    "import construction_matrices_python as toolbox"
   ]
  },
  {
   "cell_type": "code",
   "execution_count": 7,
   "id": "4cb31a18",
   "metadata": {},
   "outputs": [],
   "source": [
    "class Route :\n",
    "    # permet de définir une route entre deux noeuds (en supposant qu'on a tous les noeuds)\n",
    "    \n",
    "    def __init__(self, depart, arrivee) :\n",
    "        self.depart = depart\n",
    "        self.arrivee = arrivee\n",
    "        self.traffic = 0\n",
    "        self.type_route = \"\""
   ]
  },
  {
   "cell_type": "code",
   "execution_count": 8,
   "id": "1a075e9b",
   "metadata": {},
   "outputs": [],
   "source": [
    "class quartier():\n",
    "    def __init__(self):\n",
    "        self.routes = []\n",
    "\n",
    "    def __repr__(self):\n",
    "        print(self.routes)"
   ]
  },
  {
   "cell_type": "code",
   "execution_count": 9,
   "id": "94becb44",
   "metadata": {},
   "outputs": [],
   "source": [
    "Quartier = quartier()"
   ]
  },
  {
   "cell_type": "code",
   "execution_count": 71,
   "id": "c2e5b302",
   "metadata": {},
   "outputs": [
    {
     "name": "stdout",
     "output_type": "stream",
     "text": [
      "i =  0\n",
      "i =  1\n",
      "i =  2\n",
      "i =  3\n",
      "i =  4\n",
      "i =  5\n",
      "i =  6\n",
      "i =  7\n",
      "i =  8\n",
      "i =  9\n",
      "i =  10\n",
      "i =  11\n",
      "i =  12\n",
      "i =  13\n",
      "i =  14\n"
     ]
    }
   ],
   "source": [
    "nodes = {\n",
    "    \"0\" : [48.845483, 2.34145],\n",
    "    \"1\" : [48.84398, 2.339001],\n",
    "    \"2\" : [48.843641, 2.340548], \n",
    "    \"3\" : [48.843384, 2.341554], \n",
    "    \"4\" : [48.844355, 2.342002], \n",
    "    \"5\" : [48.846296, 2.340244], \n",
    "    \"6\" : [48.846057, 2.341126], \n",
    "    \"7\" : [48.845582, 2.342657], \n",
    "    \"8\" : [48.846642, 2.341607],\n",
    "    \"9\" : [48.846411, 2.342591], \n",
    "    \"10\" : [48.846105, 2.34298], \n",
    "    \"11\" : [48.84733, 2.340717], \n",
    "    \"12\" : [48.8471, 2.341967], \n",
    "    \"13\" : [48.846896, 2.34282], \n",
    "    \"14\" : [48.846773, 2.343323]\n",
    "        }\n",
    "\n",
    "liste_itineraire = toolbox.construction_matrices(nodes)"
   ]
  },
  {
   "cell_type": "code",
   "execution_count": 80,
   "id": "ed58d15f",
   "metadata": {},
   "outputs": [
    {
     "data": {
      "text/plain": [
       "['3', '4', '3', '2', '1']"
      ]
     },
     "execution_count": 80,
     "metadata": {},
     "output_type": "execute_result"
    }
   ],
   "source": [
    "itineraire = {1: ['Source', '2', 'Sink'],\n",
    " 2: ['Source', '11', 'Sink'],\n",
    " 3: ['Source', '1', 'Sink'],\n",
    " 4: ['Source', '13', '5', '6', '10', 'Sink'],\n",
    " 5: ['Source', '1', '4', '10', '11', 'Sink'],\n",
    " 6: ['Source', '3', '6', 'Sink'],\n",
    " 7: ['Source', '9', '12', 'Sink'],\n",
    " 8: ['Source', '8', '3', '5', 'Sink']}\n",
    "\n",
    "liste_itineraire[0][3][1]"
   ]
  },
  {
   "cell_type": "code",
   "execution_count": 52,
   "id": "2e426a7c",
   "metadata": {},
   "outputs": [],
   "source": [
    "def definir_routes(itineraire) :\n",
    "    for iti in itineraire :\n",
    "        liste_noeuds = itineraire[iti]\n",
    "        for i in range (len(liste_noeuds) - 1) :\n",
    "            if liste_noeuds[i] == \"Source\" :\n",
    "                chemin = liste_itineraire[0][0][eval(liste_noeuds[i+1])]\n",
    "            elif liste_noeuds[i+1] == \"Sink\":\n",
    "                chemin = liste_itineraire[0][eval(liste_noeuds[i])][0]\n",
    "            else : \n",
    "                chemin = liste_itineraire[0][eval(liste_noeuds[i])][eval(liste_noeuds[i+1])]\n",
    "            for j in range(len(chemin)): \n",
    "                for k in range(len(chemin[j]) - 1):\n",
    "                    # print(\"j, k\", chemin[j][k], chemin[j][k+1])\n",
    "                    if (chemin[j][k], chemin[j][k+1]) not in Quartier.routes :\n",
    "                        Quartier.routes.append((chemin[j][k], chemin[j][k+1]))\n",
    "                        Route(chemin[j][k], chemin[j][k+1])\n",
    "                    else : \n",
    "                        Route(chemin[j][k], chemin[j][k+1]).traffic += 1\n",
    "    "
   ]
  },
  {
   "cell_type": "code",
   "execution_count": 93,
   "id": "0ab2ad16",
   "metadata": {},
   "outputs": [],
   "source": [
    "# definir_routes(itineraire)\n",
    "# Quartier.routes"
   ]
  },
  {
   "cell_type": "code",
   "execution_count": 91,
   "id": "7fc486d6",
   "metadata": {},
   "outputs": [],
   "source": [
    "def matrice_routes(itineraire, nodes):\n",
    "    matrice_routes = [[0 for i in range(len(nodes))] for j in range(len(nodes))]\n",
    "    for iti in itineraire :\n",
    "        liste_noeuds = itineraire[iti]\n",
    "        for i in range (len(liste_noeuds) - 1) :\n",
    "            if liste_noeuds[i] == \"Source\" :\n",
    "                chemin = liste_itineraire[0][0][eval(liste_noeuds[i+1])]\n",
    "            elif liste_noeuds[i+1] == \"Sink\":\n",
    "                chemin = liste_itineraire[0][eval(liste_noeuds[i])][0]\n",
    "            else : \n",
    "                chemin = liste_itineraire[0][eval(liste_noeuds[i])][eval(liste_noeuds[i+1])]\n",
    "            for j in range(len(chemin)-1): \n",
    "                if matrice_routes[eval(chemin[j])][eval(chemin[j+1])] == 0 :\n",
    "                    matrice_routes[eval(chemin[j])][eval(chemin[j+1])] = Route(chemin[j], chemin[j+1])\n",
    "                else : \n",
    "                    matrice_routes[eval(chemin[j])][eval(chemin[j+1])].traffic += 1\n",
    "    return matrice_routes\n",
    "\n",
    "def routes_to_un(matrice):\n",
    "    mat = np.zeros((len(matrice), len(matrice[0])))\n",
    "    for i in range(len(matrice)):\n",
    "        for j in range(len(matrice[0])):\n",
    "            if matrice[i][j] != 0 :\n",
    "                mat[i][j] = 1\n",
    "    return mat\n"
   ]
  },
  {
   "cell_type": "code",
   "execution_count": 92,
   "id": "f07a4235",
   "metadata": {},
   "outputs": [
    {
     "data": {
      "text/plain": [
       "array([[0., 0., 0., 0., 1., 0., 1., 0., 0., 0., 0., 0., 0., 0., 0.],\n",
       "       [0., 0., 0., 0., 0., 1., 0., 0., 0., 0., 0., 0., 0., 0., 0.],\n",
       "       [0., 1., 0., 0., 0., 0., 0., 0., 0., 0., 0., 0., 0., 0., 0.],\n",
       "       [0., 0., 1., 0., 1., 0., 0., 0., 0., 0., 0., 0., 0., 0., 0.],\n",
       "       [1., 0., 0., 1., 0., 0., 0., 1., 0., 0., 0., 0., 0., 0., 0.],\n",
       "       [0., 0., 0., 0., 0., 0., 1., 0., 0., 0., 0., 1., 0., 0., 0.],\n",
       "       [1., 0., 0., 0., 0., 1., 0., 0., 1., 0., 0., 1., 0., 0., 0.],\n",
       "       [0., 0., 0., 0., 0., 0., 0., 0., 0., 0., 1., 0., 0., 0., 0.],\n",
       "       [0., 0., 0., 0., 0., 0., 0., 0., 0., 0., 0., 0., 1., 0., 0.],\n",
       "       [0., 0., 0., 0., 0., 0., 0., 0., 1., 0., 1., 0., 0., 1., 0.],\n",
       "       [0., 0., 0., 0., 0., 0., 0., 1., 0., 1., 0., 0., 0., 0., 1.],\n",
       "       [0., 0., 0., 0., 0., 1., 1., 0., 0., 0., 0., 0., 1., 0., 0.],\n",
       "       [0., 0., 0., 0., 0., 0., 0., 0., 1., 0., 0., 1., 0., 1., 0.],\n",
       "       [0., 0., 0., 0., 0., 0., 0., 0., 0., 1., 0., 0., 1., 0., 1.],\n",
       "       [0., 0., 0., 0., 0., 0., 0., 0., 0., 0., 1., 0., 0., 1., 0.]])"
      ]
     },
     "execution_count": 92,
     "metadata": {},
     "output_type": "execute_result"
    }
   ],
   "source": [
    "matrice_routes(itineraire, nodes)\n",
    "routes_to_un(matrice_routes(itineraire, nodes))"
   ]
  }
 ],
 "metadata": {
  "interpreter": {
   "hash": "2172913d4612856e3bbc325c0b7fb332e765f63a52fed726fb1f267ce3eabcc0"
  },
  "kernelspec": {
   "display_name": "Python 3.9.5 ('base')",
   "language": "python",
   "name": "python3"
  },
  "language_info": {
   "codemirror_mode": {
    "name": "ipython",
    "version": 3
   },
   "file_extension": ".py",
   "mimetype": "text/x-python",
   "name": "python",
   "nbconvert_exporter": "python",
   "pygments_lexer": "ipython3",
   "version": "3.9.5"
  }
 },
 "nbformat": 4,
 "nbformat_minor": 5
}
