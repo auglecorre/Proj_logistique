{
 "cells": [
  {
   "cell_type": "code",
   "execution_count": 1,
   "metadata": {},
   "outputs": [],
   "source": [
    "import folium \n",
    "import numpy as np \n",
    "import matplotlib.pyplot as plt\n",
    "import random as rd \n",
    "import requests\n",
    "import json \n",
    "from folium import plugins\n",
    "from folium.plugins import HeatMap\n",
    "import time \n",
    "from networkx import DiGraph\n",
    "from vrpy import VehicleRoutingProblem\n",
    "import random as rd \n",
    "from time import * "
   ]
  },
  {
   "cell_type": "code",
   "execution_count": null,
   "metadata": {},
   "outputs": [],
   "source": [
    "def dist(u,v):\n",
    "    return ((v[0]-u[0])**2 + (u[1]-v[1])**2)**0.5\n",
    "\n",
    "\n",
    "def distanceGPS(A,B):\n",
    "    \"\"\"Retourne la distance en mètres entre les 2 points A et B connus grâce à\n",
    "       leurs coordonnées GPS (en radians).\n",
    "    \"\"\"\n",
    "    # Rayon de la terre en mètres (sphère IAG-GRS80)\n",
    "    latA = 2*np.pi*A[0]/360\n",
    "    longA = 2*np.pi*A[1]/360\n",
    "    latB = 2*np.pi*B[0]/360\n",
    "    longB = 2*np.pi*B[1]/360\n",
    "    RT = 6378137\n",
    "    # angle en radians entre les 2 points\n",
    "    S = 2*np.sqrt(np.sin((latB-latA)/2)**2+np.cos(latA)*np.cos(latB)*np.sin((longB-longA)/2)**2)\n",
    "    # S = np.arccos(np.sin(latA)*np.sin(latB) + np.cos(latA)*np.cos(latB)*np.cos(abs(longB-longA)))\n",
    "    # distance entre les 2 points, comptée sur un arc de grand cercle\n",
    "    return S*RT\n",
    "\n",
    "    \n",
    "def change(way, dmax, dmin, h): #\n",
    "    \"\"\"\n",
    "    dmax c'est la distance maximale autorisée entre deux points : si est dépassé, on en crée de nouveaux\n",
    "    dmin c'est l'inverse : on détruit un point. h c'est la distance optimale, entre les deux.   \n",
    "    \"\"\"\n",
    "    N = len(way)\n",
    "    c = 0 #C'est l'indice courant, on se déplace le long du chemin.\n",
    "    while c+1 != N: \n",
    "        D = dist(way[c],way[c+1]) #Distance between start and arrival  \n",
    "        x1, y1 = way[c]\n",
    "        x2, y2 = way[c+1]\n",
    "        if D > dmax: \n",
    "            x = (h/D)*(x2 - x1) + x1\n",
    "            y = (h/D)*(y2 - y1) + y1\n",
    "            way.insert(c+1, [x,y])\n",
    "            c += 1\n",
    "        elif D < dmin : \n",
    "            way.pop(c+1)\n",
    "        else : \n",
    "            c += 1\n",
    "        N = len(way)\n",
    "    return way \n",
    "\n",
    "\n",
    "def route_dect(itineraire): \n",
    "    \"\"\"\n",
    "    Cette fonction nous permet de connaître toutes les routes de notre itinéraire. \n",
    "    Chacun de ces éléments correspond à une liste qui définit une route : noeud de début, noeud d'arrivée (en coordonnées)\n",
    "    \"\"\"\n",
    "    theta = 0 \n",
    "    N = len(itineraire)\n",
    "    routes = [[itineraire[0]]] # Chaque élément de routes est une route, avec un point de départ, et un point d'arrivée. \n",
    "    for k in range(N-2):\n",
    "        a = distanceGPS(itineraire[k+2], itineraire[k+1])\n",
    "        b = distanceGPS(itineraire[k+2], itineraire[k])\n",
    "        c = distanceGPS(itineraire[k], itineraire[k+1]) \n",
    "        try :\n",
    "            theta = round(np.arccos((a**2 - b**2 - c**2)/(-2*b*c))*360/(2*np.pi))\n",
    "\n",
    "        except ValueError:\n",
    "            theta = 0\n",
    "        if theta >= 35 : #cela signifie que le prochain point est le départ d'une nouvelle route. \n",
    "            routes.append([])\n",
    "            routes[-1].append(itineraire[k+1]) #On ouvre une nouvelle route \n",
    "            routes[-2].append(itineraire[k]) #Et on ferme l'ancienne \n",
    "    return routes \n",
    "\n",
    "        "
   ]
  },
  {
   "cell_type": "code",
   "execution_count": null,
   "metadata": {},
   "outputs": [],
   "source": [
    "def find_nodes(coordinates, N, d): \n",
    "    \"\"\"\n",
    "    C'est la fonction que l'on va utiliser pour trouver toutes les noeuds dans un espace donné. \n",
    "    N c'est le nombre d'itinéraires que l'on va faire pour trouver tous ces noeuds. \n",
    "\n",
    "    \"\"\" \n",
    "    x_min = coordinates[0][0]\n",
    "    x_max = coordinates[1][0]\n",
    "    y_min = coordinates[0][1]\n",
    "    y_max = coordinates[1][1]\n",
    "    Delta_x = x_max-x_min\n",
    "    Delta_y = y_max-y_min\n",
    "\n",
    "    nodes = {}\n",
    "\n",
    "    T = [] # C'est la liste des temps qui pour le moment est vide : dès que l'on trouve un nouveau point, on ajoute un temps\n",
    "    Y = [] # C'est la liste du nombre de points trouvés : dès que l'on en trouve un, on ajoute un élément. \n",
    "\n",
    "    T_init = time()\n",
    "    courant = 1 #C'est l'indice courant du noeud que l'on ajoute. \n",
    "    for k in range(N): \n",
    "        print((k/N)*100)\n",
    "        start_x = x_min + Delta_x*rd.random()\n",
    "        start_y = y_min + Delta_x*rd.random()\n",
    "        end_x = x_min + Delta_x*rd.random()\n",
    "        end_y = y_min + Delta_x*rd.random()\n",
    "        texte = requests.get(\"https://wxs.ign.fr/essentiels/geoportail/itineraire/rest/1.0.0/route?resource=bdtopo-osrm&start=\" + str(start_y) + \",\" + str(start_x) + \"&end=\" + str(end_y) + \",\" + str(end_x) + \"&timeUnit=second\")\n",
    "        texte = json.loads(texte.text)\n",
    "        itineraire = texte['geometry']['coordinates']\n",
    "        for el in itineraire:\n",
    "            i=el[0]\n",
    "            el[0]=el[1]\n",
    "            el[1]=i\n",
    "        itineraire = change(itineraire, 0.000125/3, 0.00005*(2/3), 0.0001125/3)\n",
    "        routes = route_dect(itineraire)\n",
    "        noeuds_courant = []\n",
    "        noeuds_potentiel = []\n",
    "        if len(routes) !=1 and len(routes)!=2 : #S'il n'y a qu'une seule route il n'y a pas de noeuds qui nous intéressent\n",
    "            for route in routes[1:len(routes)-1] : \n",
    "                #if distanceGPS(route[0], route[1]) >= 70: \n",
    "                noeuds_courant.append(route[0])\n",
    "            for noeud in noeuds_courant : \n",
    "                if len(nodes) !=0 :\n",
    "                    d_min = 1000\n",
    "                    for node in nodes : \n",
    "                        if distanceGPS(nodes[node], noeud) <= d_min: \n",
    "                            d_min = distanceGPS(nodes[node], noeud)\n",
    "                    if d_min >= d: \n",
    "                        noeuds_potentiel.append(noeud)\n",
    "                        Temps = time()\n",
    "                        T.append(Temps-T_init)\n",
    "                        Y.append(len(T))\n",
    "                else : \n",
    "                    noeuds_potentiel.append(noeud)\n",
    "                    Temps = time()\n",
    "                    T.append(Temps-T_init)\n",
    "                    Y.append(len(T))\n",
    "            for noeud in noeuds_potentiel: \n",
    "                nodes[str(courant)] = noeud\n",
    "                courant += 1\n",
    "        #print(nodes)\n",
    "    return nodes, routes, itineraire, T, Y"
   ]
  },
  {
   "cell_type": "code",
   "execution_count": null,
   "metadata": {},
   "outputs": [],
   "source": [
    "def draw(noeuds, coordinates): \n",
    "    map = folium.Map(location=coordinates[0],zoom_start= 15)\n",
    "    if type(noeuds) == dict: \n",
    "        for noeud in noeuds : \n",
    "            folium.Circle(location=noeuds[noeud], radius = 6, color = 'red').add_to(map)\n",
    "    elif type(noeuds) == list: \n",
    "        for noeud in noeuds:\n",
    "            folium.Circle(location=noeud, radius = 6, color = 'blue').add_to(map) \n",
    "    return map \n",
    "\n",
    "\n",
    "#UN EXEMPLE POUR TESTER QUE LES NOEUDS SONT BIEN DESSINÉS\n",
    "nodes = {\n",
    "    \"0\" : [48.84398020138173, 2.3389824418286684],\n",
    "    \"1\" : [48.84391289824998, 2.3403395331628376],\n",
    "    \"2\" : [48.84341388446145, 2.3415467019533205], \n",
    "    \"3\" : [48.84440778257574, 2.3420470955437263], \n",
    "    \"4\" : [48.84493806731674, 2.342361100721097], \n",
    "    \"5\" : [48.84626690825651, 2.3402599073836177], \n",
    "    \"6\" : [48.84603453758731, 2.341192794862878], \n",
    "    \"7\" : [48.84561265831214, 2.3427475462260468], \n",
    "    \"8\" : [48.846644247652264, 2.3416611494837696],\n",
    "    \"9\" : [48.84643800878857, 2.3425796369204495], \n",
    "    \"10\" : [48.846103991165215, 2.343000254945767], \n",
    "    \"11\" : [48.84728104166769, 2.34060171018991], \n",
    "    \"12\" : [48.847129234485, 2.341971223536511], \n",
    "    \"13\" : [48.84690753608959, 2.342829751948107], \n",
    "    \"14\" : [48.846818141299046, 2.3433405220004384]\n",
    "        }"
   ]
  },
  {
   "cell_type": "code",
   "execution_count": null,
   "metadata": {},
   "outputs": [],
   "source": [
    "Noeuds, routes, itineraire, T, Y = find_nodes([nodes['0'], [48.85770026735891, 2.360802362883455]], 1500, d = 50)\n",
    "map_noeuds = draw(Noeuds, [nodes['0'], [48.85770026735891, 2.360802362883455]])\n",
    "map_iti = draw(itineraire, [nodes['0'], [48.85770026735891, 2.360802362883455]])\n",
    "folium.PolyLine(routes).add_to(map_iti)\n",
    "print(\"On a trouvé \" + str(len(Noeuds)) + \" noeuds\")\n",
    "map_noeuds"
   ]
  },
  {
   "cell_type": "code",
   "execution_count": null,
   "metadata": {},
   "outputs": [],
   "source": [
    "plt.scatter(T, Y)"
   ]
  },
  {
   "cell_type": "code",
   "execution_count": null,
   "metadata": {},
   "outputs": [],
   "source": [
    "Noeuds, routes, itineraire, T, Y= find_nodes([nodes['0'], [48.84979855534378, 2.3489792236070093]], 300, d = 35)\n",
    "map_noeuds = draw(Noeuds, [nodes['0'], [48.84979855534378, 2.3489792236070093]])\n",
    "print(\"On a trouvé \" + str(len(Noeuds)) + \" noeuds\")\n",
    "map_noeuds"
   ]
  },
  {
   "cell_type": "code",
   "execution_count": null,
   "metadata": {},
   "outputs": [],
   "source": [
    "Noeuds, routes, itineraire, T, Y = find_nodes([nodes['0'], [48.867322280587096, 2.363096655797159]], 3000, d = 50)\n",
    "map_noeuds = draw(Noeuds, [nodes['0'], [48.867322280587096, 2.363096655797159]])\n",
    "map_iti = draw(itineraire, [nodes['0'], [48.867322280587096, 2.363096655797159]])\n",
    "folium.PolyLine(routes).add_to(map_iti)\n",
    "print(\"On a trouvé \" + str(len(Noeuds)) + \" noeuds\")\n",
    "map_noeuds"
   ]
  },
  {
   "cell_type": "code",
   "execution_count": null,
   "metadata": {},
   "outputs": [],
   "source": [
    "plt.scatter(T,Y)"
   ]
  },
  {
   "cell_type": "markdown",
   "metadata": {},
   "source": [
    "### On va désormais faire la fonction qui à partir d'une adresse renvoie le noeud qui lui correspond"
   ]
  },
  {
   "cell_type": "code",
   "execution_count": null,
   "metadata": {},
   "outputs": [],
   "source": [
    "def quel_noeud(adresse, ville, nodes): \n",
    "    \"\"\"\n",
    "    Une adresse est de la forme : 270 rue saint Jacques \n",
    "    Une ville est de la forme : Paris \n",
    "    Ces deux entrées sont sous la forme de chaine de carcatères. \n",
    "    \"\"\"\n",
    "    requete = \"\"\n",
    "    for lettre in adresse: \n",
    "        if lettre == \" \": \n",
    "            requete += \"+\"\n",
    "        else : \n",
    "            requete += lettre \n",
    "    requete += \"+\"\n",
    "    for lettre in ville: \n",
    "        if lettre == \" \": \n",
    "            requete += \"+\"\n",
    "        else : \n",
    "            requete += lettre \n",
    "    requete = \"https://api-adresse.data.gouv.fr/search/?q=\" + requete\n",
    "    print(requete)\n",
    "    texte = requests.get(requete)\n",
    "    texte = json.loads(texte.text)\n",
    "    coordonnées = texte['features'][0]['geometry']['coordinates']\n",
    "    coordonneées = [coordonnées[1], coordonnées[0]]        \n",
    "\n",
    "    d_min = 1000000\n",
    "    for node in nodes : \n",
    "        if distanceGPS(nodes[node], coordonneées) <= d_min :\n",
    "            mon_noeud = node \n",
    "            d_min = distanceGPS(nodes[node], coordonneées)\n",
    "    return mon_noeud \n",
    "\n"
   ]
  },
  {
   "cell_type": "code",
   "execution_count": null,
   "metadata": {},
   "outputs": [],
   "source": [
    "quel_noeud(\"46 boulevard saint michel\", \"Paris\", Noeuds)"
   ]
  },
  {
   "cell_type": "code",
   "execution_count": null,
   "metadata": {},
   "outputs": [],
   "source": [
    "Noeuds['5']"
   ]
  },
  {
   "cell_type": "markdown",
   "metadata": {},
   "source": [
    "# Il faut désormais trouver une manière plus efficace de trouver les noeuds "
   ]
  },
  {
   "cell_type": "markdown",
   "metadata": {},
   "source": [
    "La méthode de trajectoire aléatoire utilisée précédemment est peu efficace et mérite d'être améliorée. Il faut trouver une méthode pour trouver les itinéraires qui vont permettre de trouver les noeuds de la manière la plus efficace possible. "
   ]
  },
  {
   "cell_type": "code",
   "execution_count": null,
   "metadata": {},
   "outputs": [],
   "source": []
  },
  {
   "cell_type": "markdown",
   "metadata": {},
   "source": [
    "$\\\\[10cm]$"
   ]
  },
  {
   "cell_type": "markdown",
   "metadata": {},
   "source": [
    "# Partie VRPY "
   ]
  },
  {
   "cell_type": "markdown",
   "metadata": {},
   "source": [
    "Le but dans cette partie c'est de donner une liste d'adresses et que à partir de VRPY, on est en retour la liste de l'odre dans lequel il faudra alors effectuer les trajets. Il trouve donc la tournée à effectuer par tous les camions. \n",
    "\n",
    "On prendra pour tester cette fonction des tournées avec 5 camions qui doivent livrer à 50 adresses différentes, avec toutes des demandes qui diffèrent. "
   ]
  },
  {
   "cell_type": "code",
   "execution_count": null,
   "metadata": {},
   "outputs": [],
   "source": [
    "\"\"\"\n",
    "On fait dans un premier temps la fonction qui à partir d'une liste de noeuds renvoie tous itinéraires entre les noeuds en parlant \"noeuds\". \n",
    "Cette fonction produit une liste immense. (de la taille du nombre de noeuds * nombre de noeuds). \n",
    "Pour un quartier de la taille de la moitié du 5ème, on a environ 300 noeuds. Cela donne une liste de 90000 éléments. \n",
    "Chacun de ces 9000 éléments est en fait une liste d'environ 4/5 éléments (noeuds pour aller de i vers j). \n",
    "\"\"\"\n",
    "\n",
    "def construction_matrices(nodes):\n",
    "    \"\"\"\n",
    "    Cette fonction prend en entrée la liste des noeuds qui ont été prédéfinis. \n",
    "    Elle renvoie d'une part la matrice des itinéraires entre les noeuds et d'autre part la matrice des temps de trajet entre les noeuds. \n",
    "    \"\"\"\n",
    "    N_nodes = len(nodes)\n",
    "    matrix_durations = np.zeros((N_nodes,N_nodes))\n",
    "    liste_itineraires = []\n",
    "\n",
    "    i = 0 \n",
    "    for node_start in nodes : \n",
    "        liste_itineraires.append([])\n",
    "        start_x = nodes[node_start][1] \n",
    "        start_y = nodes[node_start][0]\n",
    "        print('i = ', i)\n",
    "        j = 0\n",
    "        for node_end in nodes :\n",
    "            end_x = nodes[node_end][1] \n",
    "            end_y = nodes[node_end][0]\n",
    "            texte = requests.get(\"https://wxs.ign.fr/essentiels/geoportail/itineraire/rest/1.0.0/route?resource=bdtopo-osrm&start=\" + str(start_x) + \",\" + str(start_y) + \"&end=\" + str(end_x) + \",\" + str(end_y) + \"&timeUnit=second\")\n",
    "            texte = json.loads(texte.text)\n",
    "            itineraire = texte['geometry']['coordinates']\n",
    "            duration = texte['duration']\n",
    "            matrix_durations[i,j] = duration \n",
    "            for element in itineraire: \n",
    "                if round(element[0]) == 2 : \n",
    "                    p = element[0]\n",
    "                    element[0] = element[1]\n",
    "                    element[1] = p \n",
    "            itineraire_points = change(itineraire,  0.00025, 0.0002, 0.000225)\n",
    "\n",
    "            #il va maintenant falloir modifier cela en une liste de noeud. \n",
    "            itineraire_noeuds = []\n",
    "            node_courant = \"-1\"\n",
    "            for point in itineraire_points:\n",
    "                for node in nodes  : \n",
    "                    if node != node_courant and dist(point, nodes[node]) <= 0.00045 : \n",
    "                        itineraire_noeuds.append(node)\n",
    "                        node_courant = node\n",
    "            liste_itineraires[i].append(itineraire_noeuds)  #Donc liste_itineraires[i][j] c'est l'itineraire pour aller de i vers j en parlant en noeud. \n",
    "            j+=1\n",
    "        i+=1 \n",
    "    return liste_itineraires, matrix_durations"
   ]
  },
  {
   "cell_type": "code",
   "execution_count": null,
   "metadata": {},
   "outputs": [],
   "source": [
    "\"\"\"\n",
    "On définit ces données en variables globales pour justement éviter d'avoir à les recalculer à chaque demande vrpy. \n",
    "\"\"\"\n",
    "\n",
    "liste_iti_noeuds, matrix_durations = construction_matrices(Noeuds)"
   ]
  },
  {
   "cell_type": "code",
   "execution_count": null,
   "metadata": {},
   "outputs": [],
   "source": [
    "def vrpy_trouver_tournée(adresses_et_demandes, nodes, capacités):\n",
    "    \n",
    "    \"\"\"\n",
    "    Nodes c'est notre liste de noeuds que l'on aura donc bien prédéfinie. La première étape va consister à atribuer à toutes les adresses le noeud leur correspondant. \n",
    "    adresses_et_demandes c'est un dictionnaire : chacune des clés est pour une adresse. pour chaque adresse on a donc une liste d'un élément : un dictionnaire \n",
    "    où l'on va retrouver toutes les infos necssaires pour l'adresse en question. \n",
    "\n",
    "    Capacité, c'est le nombre de camion que l'on a à notre disposition pour effectuer les tournées dans le quartier. \n",
    "\n",
    "    \"\"\"\n",
    "\n",
    "    noeuds_et_demandes = {}\n",
    "    for adresse in adresses_et_demandes: \n",
    "        noeud = quel_noeud(adresse, \"Paris\", nodes)\n",
    "        if noeud not in noeuds_et_demandes: \n",
    "            noeuds_et_demandes[noeud] = [{'demande' : adresses_et_demandes[adresse][0]['demande']}]\n",
    "        else : \n",
    "            noeuds_et_demandes[noeud][0]['demande'] += adresses_et_demandes[adresse][0]['demande']\n",
    "    print(noeuds_et_demandes)\n",
    "    \n",
    "    \"\"\"\n",
    "    On a désormais converti notre dictionnaire des demandes des adresses en un dictionnaire de demandes reportée sur les noeuds. \n",
    "    Il faut désormais établir les tournées. On va vouloir renvoyer à la suite (même si plusieurs tournées sont effectuées en parallèle) la grande liste \n",
    "    qui contient tous les noeuds que l'on va visiter dans l'odre (c'est la concaténation de toutes les tournées)\n",
    "    \"\"\"\n",
    "\n",
    "    G = DiGraph()\n",
    "    for noeud in noeuds_et_demandes : # ici on crée les edges entre les noeuds et le début / la fin qui est au noeud 0. \n",
    "        G.add_edge('Source', noeud, cost = [matrix_durations[0,eval(noeud)-1],matrix_durations[0,eval(noeud)-1],matrix_durations[0,eval(noeud)-1],matrix_durations[0,eval(noeud)-1],matrix_durations[0,eval(noeud)-1]])\n",
    "        G.add_edge(noeud, 'Sink', cost = [matrix_durations[eval(noeud)-1,0],matrix_durations[eval(noeud)-1,0],matrix_durations[eval(noeud)-1,0],matrix_durations[eval(noeud)-1,0],matrix_durations[eval(noeud)-1,0]])\n",
    "        G.nodes[noeud][\"demand\"] = noeuds_et_demandes[noeud][0]['demande']\n",
    "    for start in noeuds_et_demandes: \n",
    "        for ending in noeuds_et_demandes:\n",
    "            G.add_edge(start, ending, cost = [matrix_durations[eval(start)-1,eval(ending)-1],matrix_durations[eval(start)-1,eval(ending)-1],matrix_durations[eval(start)-1,eval(ending)-1],matrix_durations[eval(start)-1,eval(ending)-1],matrix_durations[eval(start)-1,eval(ending)-1]])\n",
    "    prob = VehicleRoutingProblem(G, mixed_fleet=True, load_capacity=capacités)\n",
    "    return prob\n",
    "    "
   ]
  },
  {
   "cell_type": "code",
   "execution_count": null,
   "metadata": {},
   "outputs": [],
   "source": [
    "adresses_et_demandes = {}\n",
    "\n",
    "for k in range(100): \n",
    "    rues = {'1' : \"val de grace\", '2' : \"soufflot\", '3' : \"cujas\", '4' : \"gay lussac\"}\n",
    "    rue = rues[str(rd.randint(1,4))]\n",
    "    if rue == \"val de grace\": \n",
    "        numero = rd.randint(1,20)\n",
    "    elif rue == \"soufflot\": \n",
    "        numero = rd.randint(1,23)\n",
    "    elif rue == \"cujas\": \n",
    "        numero = rd.randint(1,25)\n",
    "    elif rue == 'gay lussac': \n",
    "        numero = rd.randint(1,66)\n",
    "    demande = rd.randint(1,2)\n",
    "    adresses_et_demandes[str(numero) + \" rue \" + rue] = [{'demande' : demande}]\n",
    "\n",
    "adresses_et_demandes\n"
   ]
  },
  {
   "cell_type": "code",
   "execution_count": null,
   "metadata": {},
   "outputs": [],
   "source": [
    "\"\"\"\n",
    "On aura donc exécuté la cellule qui donne actuellement 42 noeuds. Puis la cellule qui calcule matrix durations etc... \n",
    "\"\"\"\n",
    "\n",
    "prob = vrpy_trouver_tournée(adresses_et_demandes, Noeuds, [7,8,9,15,6])\n",
    "prob.solve()"
   ]
  },
  {
   "cell_type": "code",
   "execution_count": null,
   "metadata": {},
   "outputs": [],
   "source": [
    "prob.best_routes"
   ]
  },
  {
   "cell_type": "code",
   "execution_count": null,
   "metadata": {},
   "outputs": [],
   "source": [
    "adresses_et_demandes = {}\n",
    "\n",
    "for k in range(1000): \n",
    "    rues = {'1' : \"val de grace\", '2' : \"soufflot\", '3' : \"cujas\", '4' : \"gay lussac\"}\n",
    "    rue = rues[str(rd.randint(1,4))]\n",
    "    if rue == \"val de grace\": \n",
    "        numero = rd.randint(1,20)\n",
    "    elif rue == \"soufflot\": \n",
    "        numero = rd.randint(1,23)\n",
    "    elif rue == \"cujas\": \n",
    "        numero = rd.randint(1,25)\n",
    "    elif rue == 'gay lussac': \n",
    "        numero = rd.randint(1,66)\n",
    "    demande = rd.randint(1,2)\n",
    "    adresses_et_demandes[str(numero) + \" rue \" + rue] = [{'demande' : demande}]\n",
    "\n",
    "adresses_et_demandes"
   ]
  },
  {
   "cell_type": "code",
   "execution_count": null,
   "metadata": {},
   "outputs": [],
   "source": [
    "\"\"\"\n",
    "On aura donc exécuté la cellule qui donne actuellement 42 noeuds. Puis la cellule qui calcule matrix durations etc... \n",
    "\"\"\"\n",
    "\n",
    "prob = vrpy_trouver_tournée(adresses_et_demandes, Noeuds, [7,8,9,15,6])\n",
    "prob.solve()"
   ]
  }
 ],
 "metadata": {
  "interpreter": {
   "hash": "2172913d4612856e3bbc325c0b7fb332e765f63a52fed726fb1f267ce3eabcc0"
  },
  "kernelspec": {
   "display_name": "Python 3.9.5 ('base')",
   "language": "python",
   "name": "python3"
  },
  "language_info": {
   "codemirror_mode": {
    "name": "ipython",
    "version": 3
   },
   "file_extension": ".py",
   "mimetype": "text/x-python",
   "name": "python",
   "nbconvert_exporter": "python",
   "pygments_lexer": "ipython3",
   "version": "3.9.5"
  }
 },
 "nbformat": 4,
 "nbformat_minor": 2
}
