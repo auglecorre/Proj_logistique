{
 "cells": [
  {
   "cell_type": "code",
   "execution_count": 264,
   "id": "2230517f",
   "metadata": {},
   "outputs": [],
   "source": [
    "import requests\n",
    "import json\n",
    "import folium\n",
    "import numpy as np\n",
    "import time"
   ]
  },
  {
   "cell_type": "code",
   "execution_count": 133,
   "id": "de764c47",
   "metadata": {},
   "outputs": [],
   "source": [
    "from folium import plugins\n",
    "from folium.plugins import HeatMap"
   ]
  },
  {
   "cell_type": "code",
   "execution_count": 279,
   "id": "3d0bba9f",
   "metadata": {},
   "outputs": [
    {
     "data": {
      "text/plain": [
       "1651610504.2174752"
      ]
     },
     "execution_count": 279,
     "metadata": {},
     "output_type": "execute_result"
    }
   ],
   "source": [
    "time.time()"
   ]
  },
  {
   "cell_type": "code",
   "execution_count": 280,
   "id": "d0a518f8",
   "metadata": {},
   "outputs": [
    {
     "name": "stdout",
     "output_type": "stream",
     "text": [
      "2.236999273300171\n"
     ]
    }
   ],
   "source": [
    "a=time.time()\n",
    "b=requests.get(\"https://wxs.ign.fr/essentiels/geoportail/itineraire/rest/1.0.0/route?resource=bdtopo-osrm&start=2.3396105,48.845747&end=2.3411152,48.8420757&timeUnit=second\")\n",
    "requests.get(\"https://wxs.ign.fr/essentiels/geoportail/itineraire/rest/1.0.0/route?resource=bdtopo-osrm&start=2.3396105,48.845747&end=2.3411152,48.8420757&timeUnit=second\")\n",
    "requests.get(\"https://wxs.ign.fr/essentiels/geoportail/itineraire/rest/1.0.0/route?resource=bdtopo-osrm&start=2.3396105,48.845747&end=2.3411152,48.8420757&timeUnit=second\")\n",
    "requests.get(\"https://wxs.ign.fr/essentiels/geoportail/itineraire/rest/1.0.0/route?resource=bdtopo-osrm&start=2.3396105,48.845747&end=2.3411152,48.8420757&timeUnit=second\")\n",
    "requests.get(\"https://wxs.ign.fr/essentiels/geoportail/itineraire/rest/1.0.0/route?resource=bdtopo-osrm&start=2.3396105,48.845747&end=2.3411152,48.8420757&timeUnit=second\")\n",
    "requests.get(\"https://wxs.ign.fr/essentiels/geoportail/itineraire/rest/1.0.0/route?resource=bdtopo-osrm&start=2.3396105,48.845747&end=2.3411152,48.8420757&timeUnit=second\")\n",
    "requests.get(\"https://wxs.ign.fr/essentiels/geoportail/itineraire/rest/1.0.0/route?resource=bdtopo-osrm&start=2.3396105,48.845747&end=2.3411152,48.8420757&timeUnit=second\")\n",
    "requests.get(\"https://wxs.ign.fr/essentiels/geoportail/itineraire/rest/1.0.0/route?resource=bdtopo-osrm&start=2.3396105,48.845747&end=2.3411152,48.8420757&timeUnit=second\")\n",
    "requests.get(\"https://wxs.ign.fr/essentiels/geoportail/itineraire/rest/1.0.0/route?resource=bdtopo-osrm&start=2.3396105,48.845747&end=2.3411152,48.8420757&timeUnit=second\")\n",
    "requests.get(\"https://wxs.ign.fr/essentiels/geoportail/itineraire/rest/1.0.0/route?resource=bdtopo-osrm&start=2.3396105,48.845747&end=2.3411152,48.8420757&timeUnit=second\")\n",
    "requests.get(\"https://wxs.ign.fr/essentiels/geoportail/itineraire/rest/1.0.0/route?resource=bdtopo-osrm&start=2.3396105,48.845747&end=2.3411152,48.8420757&timeUnit=second\")\n",
    "requests.get(\"https://wxs.ign.fr/essentiels/geoportail/itineraire/rest/1.0.0/route?resource=bdtopo-osrm&start=2.3396105,48.845747&end=2.3411152,48.8420757&timeUnit=second\")\n",
    "requests.get(\"https://wxs.ign.fr/essentiels/geoportail/itineraire/rest/1.0.0/route?resource=bdtopo-osrm&start=2.3396105,48.845747&end=2.3411152,48.8420757&timeUnit=second\")\n",
    "print(time.time()-a)"
   ]
  },
  {
   "cell_type": "code",
   "execution_count": 75,
   "id": "9055cc4a",
   "metadata": {},
   "outputs": [],
   "source": [
    "b=json.loads(b.text)"
   ]
  },
  {
   "cell_type": "code",
   "execution_count": 259,
   "id": "1f3df1de",
   "metadata": {
    "scrolled": true
   },
   "outputs": [
    {
     "data": {
      "text/plain": [
       "{'resource': 'bdtopo-osrm',\n",
       " 'resourceVersion': '2022-03-28',\n",
       " 'start': '2.339921,48.845675',\n",
       " 'end': '2.341176,48.842152',\n",
       " 'profile': 'car',\n",
       " 'optimization': 'fastest',\n",
       " 'geometry': {'coordinates': [[2.339921, 48.845675],\n",
       "   [2.339191, 48.84431],\n",
       "   [2.338983, 48.843925],\n",
       "   [2.338668, 48.843363],\n",
       "   [2.3382, 48.842505],\n",
       "   [2.337756, 48.841755],\n",
       "   [2.338969, 48.841419],\n",
       "   [2.339823, 48.841175],\n",
       "   [2.340283, 48.841783],\n",
       "   [2.340546, 48.842129],\n",
       "   [2.340667, 48.842269],\n",
       "   [2.340696, 48.842291],\n",
       "   [2.340724, 48.842297],\n",
       "   [2.340737, 48.8423],\n",
       "   [2.340793, 48.842296],\n",
       "   [2.34086, 48.842277],\n",
       "   [2.341111, 48.842175],\n",
       "   [2.341176, 48.842152]],\n",
       "  'type': 'LineString'},\n",
       " 'crs': 'EPSG:4326',\n",
       " 'distanceUnit': 'meter',\n",
       " 'timeUnit': 'second',\n",
       " 'bbox': [2.337756, 48.841175, 2.341176, 48.845675],\n",
       " 'distance': 807.8,\n",
       " 'duration': 78.3,\n",
       " 'constraints': [],\n",
       " 'portions': [{'start': '2.339921,48.845675',\n",
       "   'end': '2.341176,48.842152',\n",
       "   'distance': 807.8,\n",
       "   'duration': 78.3,\n",
       "   'bbox': [2.337756, 48.841175, 2.341176, 48.845675],\n",
       "   'steps': [{'geometry': {'coordinates': [[2.339921, 48.845675],\n",
       "       [2.339191, 48.84431],\n",
       "       [2.338983, 48.843925],\n",
       "       [2.338668, 48.843363],\n",
       "       [2.3382, 48.842505],\n",
       "       [2.337756, 48.841755]],\n",
       "      'type': 'LineString'},\n",
       "     'attributes': {'name': {'nom_1_gauche': 'BD SAINT-MICHEL',\n",
       "       'nom_1_droite': 'BD SAINT-MICHEL',\n",
       "       'cpx_numero': '',\n",
       "       'cpx_toponyme': ''}},\n",
       "     'distance': 463.9,\n",
       "     'duration': 37,\n",
       "     'instruction': {'type': 'depart', 'modifier': 'right'}},\n",
       "    {'geometry': {'coordinates': [[2.337756, 48.841755],\n",
       "       [2.338969, 48.841419],\n",
       "       [2.339823, 48.841175]],\n",
       "      'type': 'LineString'},\n",
       "     'attributes': {'name': {'nom_1_gauche': 'R DU VAL DE GRACE',\n",
       "       'nom_1_droite': 'R DU VAL DE GRACE',\n",
       "       'cpx_numero': '',\n",
       "       'cpx_toponyme': ''}},\n",
       "     'distance': 164.5,\n",
       "     'duration': 19.799999999999997,\n",
       "     'instruction': {'type': 'turn', 'modifier': 'left'}},\n",
       "    {'geometry': {'coordinates': [[2.339823, 48.841175],\n",
       "       [2.340283, 48.841783],\n",
       "       [2.340546, 48.842129],\n",
       "       [2.340667, 48.842269],\n",
       "       [2.340696, 48.842291],\n",
       "       [2.340724, 48.842297],\n",
       "       [2.340737, 48.8423],\n",
       "       [2.340793, 48.842296],\n",
       "       [2.34086, 48.842277],\n",
       "       [2.341111, 48.842175],\n",
       "       [2.341176, 48.842152]],\n",
       "      'type': 'LineString'},\n",
       "     'attributes': {'name': {'nom_1_gauche': 'R PIERRE NICOLE',\n",
       "       'nom_1_droite': 'R PIERRE NICOLE',\n",
       "       'cpx_numero': '',\n",
       "       'cpx_toponyme': ''}},\n",
       "     'distance': 179.4,\n",
       "     'duration': 21.5,\n",
       "     'instruction': {'type': 'turn', 'modifier': 'left'}},\n",
       "    {'geometry': {'coordinates': [[2.341176, 48.842152],\n",
       "       [2.341176, 48.842152]],\n",
       "      'type': 'LineString'},\n",
       "     'attributes': {'name': {'nom_1_gauche': 'R DES FEUILLANTINES',\n",
       "       'nom_1_droite': 'R DES FEUILLANTINES',\n",
       "       'cpx_numero': '',\n",
       "       'cpx_toponyme': ''}},\n",
       "     'distance': 0,\n",
       "     'duration': 0,\n",
       "     'instruction': {'type': 'arrive', 'modifier': 'right'}}]}]}"
      ]
     },
     "execution_count": 259,
     "metadata": {},
     "output_type": "execute_result"
    }
   ],
   "source": [
    "b"
   ]
  },
  {
   "cell_type": "code",
   "execution_count": 37,
   "id": "ca9d9dd6",
   "metadata": {},
   "outputs": [
    {
     "data": {
      "text/plain": [
       "[{'geometry': {'coordinates': [[2.339921, 48.845675],\n",
       "    [2.339191, 48.84431],\n",
       "    [2.338983, 48.843925],\n",
       "    [2.338668, 48.843363],\n",
       "    [2.3382, 48.842505],\n",
       "    [2.337756, 48.841755]],\n",
       "   'type': 'LineString'},\n",
       "  'attributes': {'name': {'nom_1_gauche': 'BD SAINT-MICHEL',\n",
       "    'nom_1_droite': 'BD SAINT-MICHEL',\n",
       "    'cpx_numero': '',\n",
       "    'cpx_toponyme': ''}},\n",
       "  'distance': 463.9,\n",
       "  'duration': 0.6166666666666667,\n",
       "  'instruction': {'type': 'depart', 'modifier': 'right'}},\n",
       " {'geometry': {'coordinates': [[2.337756, 48.841755],\n",
       "    [2.338969, 48.841419],\n",
       "    [2.339823, 48.841175]],\n",
       "   'type': 'LineString'},\n",
       "  'attributes': {'name': {'nom_1_gauche': 'R DU VAL DE GRACE',\n",
       "    'nom_1_droite': 'R DU VAL DE GRACE',\n",
       "    'cpx_numero': '',\n",
       "    'cpx_toponyme': ''}},\n",
       "  'distance': 164.5,\n",
       "  'duration': 0.32999999999999996,\n",
       "  'instruction': {'type': 'turn', 'modifier': 'left'}},\n",
       " {'geometry': {'coordinates': [[2.339823, 48.841175],\n",
       "    [2.340283, 48.841783],\n",
       "    [2.340546, 48.842129],\n",
       "    [2.340667, 48.842269],\n",
       "    [2.340696, 48.842291],\n",
       "    [2.340724, 48.842297],\n",
       "    [2.340737, 48.8423],\n",
       "    [2.340793, 48.842296],\n",
       "    [2.34086, 48.842277],\n",
       "    [2.341111, 48.842175],\n",
       "    [2.341176, 48.842152]],\n",
       "   'type': 'LineString'},\n",
       "  'attributes': {'name': {'nom_1_gauche': 'R PIERRE NICOLE',\n",
       "    'nom_1_droite': 'R PIERRE NICOLE',\n",
       "    'cpx_numero': '',\n",
       "    'cpx_toponyme': ''}},\n",
       "  'distance': 179.4,\n",
       "  'duration': 0.35833333333333334,\n",
       "  'instruction': {'type': 'turn', 'modifier': 'left'}},\n",
       " {'geometry': {'coordinates': [[2.341176, 48.842152], [2.341176, 48.842152]],\n",
       "   'type': 'LineString'},\n",
       "  'attributes': {'name': {'nom_1_gauche': 'R DES FEUILLANTINES',\n",
       "    'nom_1_droite': 'R DES FEUILLANTINES',\n",
       "    'cpx_numero': '',\n",
       "    'cpx_toponyme': ''}},\n",
       "  'distance': 0,\n",
       "  'duration': 0,\n",
       "  'instruction': {'type': 'arrive', 'modifier': 'right'}}]"
      ]
     },
     "execution_count": 37,
     "metadata": {},
     "output_type": "execute_result"
    }
   ],
   "source": [
    "u['portions'][0]['steps']"
   ]
  },
  {
   "cell_type": "code",
   "execution_count": 285,
   "id": "da618a93",
   "metadata": {},
   "outputs": [],
   "source": [
    "m = folium.Map(location=[48.845675,2.339921],zoom_start=13)"
   ]
  },
  {
   "cell_type": "code",
   "execution_count": 283,
   "id": "2aeed439",
   "metadata": {},
   "outputs": [],
   "source": [
    "lat_interval = 0.0005\n",
    "lon_interval = 0.001\n",
    "bg=48.817328601729024, 2.238258887016655\n",
    "d=48.90003754239183, 2.4323981020326455\n",
    "lati=np.arange(48.817328601729024, 48.90003754239183, lat_interval)\n",
    "long=np.arange(2.238258887016655, 2.4323981020326455, lon_interval)\n",
    "\n",
    "for lat in lati:\n",
    "     folium.PolyLine([[lat, -180],[lat, 180]], weight=0.5).add_to(m)\n",
    "\n",
    "for lon in long:\n",
    "    folium.PolyLine([[-90, lon],[90, lon]], weight=0.5).add_to(m)\n"
   ]
  },
  {
   "cell_type": "code",
   "execution_count": 289,
   "id": "c24e4070",
   "metadata": {},
   "outputs": [
    {
     "data": {
      "text/plain": [
       "<folium.plugins.heat_map.HeatMap at 0x13857b34c70>"
      ]
     },
     "execution_count": 289,
     "metadata": {},
     "output_type": "execute_result"
    }
   ],
   "source": [
    "data=[[48.8363457107989, 2.3296971449864214,  0.5]]\n",
    "way=[[2.339921, 48.845675],\n",
    "   [2.339191, 48.84431],\n",
    "   [2.338983, 48.843925],\n",
    "   [2.338668, 48.843363],\n",
    "   [2.3382, 48.842505],\n",
    "   [2.337756, 48.841755],\n",
    "   [2.338969, 48.841419],\n",
    "   [2.339823, 48.841175],\n",
    "   [2.340283, 48.841783],\n",
    "   [2.340546, 48.842129],\n",
    "   [2.340667, 48.842269],\n",
    "   [2.340696, 48.842291],\n",
    "   [2.340724, 48.842297],\n",
    "   [2.340737, 48.8423],\n",
    "   [2.340793, 48.842296],\n",
    "   [2.34086, 48.842277],\n",
    "   [2.341111, 48.842175],\n",
    "   [2.341176, 48.842152]]\n",
    "for el in way:\n",
    "    i=el[0]\n",
    "    el[0]=el[1]\n",
    "    el[1]=i\n",
    "    el.append(1)\n",
    "way\n",
    "HeatMap(way,radius=10).add_to(m)"
   ]
  },
  {
   "cell_type": "code",
   "execution_count": 290,
   "id": "ab5e28fc",
   "metadata": {
    "scrolled": true
   },
   "outputs": [
    {
     "data": {
      "text/html": [
       "<div style=\"width:100%;\"><div style=\"position:relative;width:100%;height:0;padding-bottom:60%;\"><span style=\"color:#565656\">Make this Notebook Trusted to load map: File -> Trust Notebook</span><iframe srcdoc=\"&lt;!DOCTYPE html&gt;\n",
       "&lt;head&gt;    \n",
       "    &lt;meta http-equiv=&quot;content-type&quot; content=&quot;text/html; charset=UTF-8&quot; /&gt;\n",
       "    \n",
       "        &lt;script&gt;\n",
       "            L_NO_TOUCH = false;\n",
       "            L_DISABLE_3D = false;\n",
       "        &lt;/script&gt;\n",
       "    \n",
       "    &lt;style&gt;html, body {width: 100%;height: 100%;margin: 0;padding: 0;}&lt;/style&gt;\n",
       "    &lt;style&gt;#map {position:absolute;top:0;bottom:0;right:0;left:0;}&lt;/style&gt;\n",
       "    &lt;script src=&quot;https://cdn.jsdelivr.net/npm/leaflet@1.6.0/dist/leaflet.js&quot;&gt;&lt;/script&gt;\n",
       "    &lt;script src=&quot;https://code.jquery.com/jquery-1.12.4.min.js&quot;&gt;&lt;/script&gt;\n",
       "    &lt;script src=&quot;https://maxcdn.bootstrapcdn.com/bootstrap/3.2.0/js/bootstrap.min.js&quot;&gt;&lt;/script&gt;\n",
       "    &lt;script src=&quot;https://cdnjs.cloudflare.com/ajax/libs/Leaflet.awesome-markers/2.0.2/leaflet.awesome-markers.js&quot;&gt;&lt;/script&gt;\n",
       "    &lt;link rel=&quot;stylesheet&quot; href=&quot;https://cdn.jsdelivr.net/npm/leaflet@1.6.0/dist/leaflet.css&quot;/&gt;\n",
       "    &lt;link rel=&quot;stylesheet&quot; href=&quot;https://maxcdn.bootstrapcdn.com/bootstrap/3.2.0/css/bootstrap.min.css&quot;/&gt;\n",
       "    &lt;link rel=&quot;stylesheet&quot; href=&quot;https://maxcdn.bootstrapcdn.com/bootstrap/3.2.0/css/bootstrap-theme.min.css&quot;/&gt;\n",
       "    &lt;link rel=&quot;stylesheet&quot; href=&quot;https://maxcdn.bootstrapcdn.com/font-awesome/4.6.3/css/font-awesome.min.css&quot;/&gt;\n",
       "    &lt;link rel=&quot;stylesheet&quot; href=&quot;https://cdnjs.cloudflare.com/ajax/libs/Leaflet.awesome-markers/2.0.2/leaflet.awesome-markers.css&quot;/&gt;\n",
       "    &lt;link rel=&quot;stylesheet&quot; href=&quot;https://cdn.jsdelivr.net/gh/python-visualization/folium/folium/templates/leaflet.awesome.rotate.min.css&quot;/&gt;\n",
       "    \n",
       "            &lt;meta name=&quot;viewport&quot; content=&quot;width=device-width,\n",
       "                initial-scale=1.0, maximum-scale=1.0, user-scalable=no&quot; /&gt;\n",
       "            &lt;style&gt;\n",
       "                #map_c50fbcb5c6294b64d0b8088f97b60098 {\n",
       "                    position: relative;\n",
       "                    width: 100.0%;\n",
       "                    height: 100.0%;\n",
       "                    left: 0.0%;\n",
       "                    top: 0.0%;\n",
       "                }\n",
       "            &lt;/style&gt;\n",
       "        \n",
       "    &lt;script src=&quot;https://cdn.jsdelivr.net/gh/python-visualization/folium@master/folium/templates/leaflet_heat.min.js&quot;&gt;&lt;/script&gt;\n",
       "&lt;/head&gt;\n",
       "&lt;body&gt;    \n",
       "    \n",
       "            &lt;div class=&quot;folium-map&quot; id=&quot;map_c50fbcb5c6294b64d0b8088f97b60098&quot; &gt;&lt;/div&gt;\n",
       "        \n",
       "&lt;/body&gt;\n",
       "&lt;script&gt;    \n",
       "    \n",
       "            var map_c50fbcb5c6294b64d0b8088f97b60098 = L.map(\n",
       "                &quot;map_c50fbcb5c6294b64d0b8088f97b60098&quot;,\n",
       "                {\n",
       "                    center: [48.845675, 2.339921],\n",
       "                    crs: L.CRS.EPSG3857,\n",
       "                    zoom: 13,\n",
       "                    zoomControl: true,\n",
       "                    preferCanvas: false,\n",
       "                }\n",
       "            );\n",
       "\n",
       "            \n",
       "\n",
       "        \n",
       "    \n",
       "            var tile_layer_2dfd14cb54582ef00f33e7a67907dffa = L.tileLayer(\n",
       "                &quot;https://{s}.tile.openstreetmap.org/{z}/{x}/{y}.png&quot;,\n",
       "                {&quot;attribution&quot;: &quot;Data by \\u0026copy; \\u003ca href=\\&quot;http://openstreetmap.org\\&quot;\\u003eOpenStreetMap\\u003c/a\\u003e, under \\u003ca href=\\&quot;http://www.openstreetmap.org/copyright\\&quot;\\u003eODbL\\u003c/a\\u003e.&quot;, &quot;detectRetina&quot;: false, &quot;maxNativeZoom&quot;: 18, &quot;maxZoom&quot;: 18, &quot;minZoom&quot;: 0, &quot;noWrap&quot;: false, &quot;opacity&quot;: 1, &quot;subdomains&quot;: &quot;abc&quot;, &quot;tms&quot;: false}\n",
       "            ).addTo(map_c50fbcb5c6294b64d0b8088f97b60098);\n",
       "        \n",
       "    \n",
       "            var heat_map_93af35e2e7ca8c106de2146475b6c60c = L.heatLayer(\n",
       "                [[48.845675, 2.339921, 1], [48.84431, 2.339191, 1], [48.843925, 2.338983, 1], [48.843363, 2.338668, 1], [48.842505, 2.3382, 1], [48.841755, 2.337756, 1], [48.841419, 2.338969, 1], [48.841175, 2.339823, 1], [48.841783, 2.340283, 1], [48.842129, 2.340546, 1], [48.842269, 2.340667, 1], [48.842291, 2.340696, 1], [48.842297, 2.340724, 1], [48.8423, 2.340737, 1], [48.842296, 2.340793, 1], [48.842277, 2.34086, 1], [48.842175, 2.341111, 1], [48.842152, 2.341176, 1]],\n",
       "                {&quot;blur&quot;: 15, &quot;maxZoom&quot;: 18, &quot;minOpacity&quot;: 0.5, &quot;radius&quot;: 10}\n",
       "            ).addTo(map_c50fbcb5c6294b64d0b8088f97b60098);\n",
       "        \n",
       "&lt;/script&gt;\" style=\"position:absolute;width:100%;height:100%;left:0;top:0;border:none !important;\" allowfullscreen webkitallowfullscreen mozallowfullscreen></iframe></div></div>"
      ],
      "text/plain": [
       "<folium.folium.Map at 0x13857adc850>"
      ]
     },
     "execution_count": 290,
     "metadata": {},
     "output_type": "execute_result"
    }
   ],
   "source": [
    "m"
   ]
  },
  {
   "cell_type": "code",
   "execution_count": 253,
   "id": "0804660d",
   "metadata": {},
   "outputs": [],
   "source": [
    "class Edge:\n",
    "    def __init__(self, start1,start2, stop1,stop2):\n",
    "        a=requests.get(\"https://wxs.ign.fr/essentiels/geoportail/itineraire/rest/1.0.0/route?resource=bdtopo-osrm&start=\"+str(start1)+\",\"+str(start2)+\"&end=\"+str(stop1)+\",\"+str(stop2)+\"&timeUnit=second\")\n",
    "        a=json.loads(a.text)\n",
    "        self.length = a['distance']\n",
    "        self.duration = a['duration']\n",
    "        self.way = a['geometry'][\"coordinates\"]\n",
    "        for el in self.way:\n",
    "            i=el[0]\n",
    "            el[0]=el[1]\n",
    "            el[1]=i"
   ]
  },
  {
   "cell_type": "code",
   "execution_count": 287,
   "id": "416c99b6",
   "metadata": {},
   "outputs": [],
   "source": [
    "route= Edge(2.3396105,48.845747,2.3411152,48.8420757)\n"
   ]
  },
  {
   "cell_type": "code",
   "execution_count": 288,
   "id": "f31c980c",
   "metadata": {},
   "outputs": [
    {
     "data": {
      "text/plain": [
       "[[48.845675, 2.339921],\n",
       " [48.84431, 2.339191],\n",
       " [48.843925, 2.338983],\n",
       " [48.843363, 2.338668],\n",
       " [48.842505, 2.3382],\n",
       " [48.841755, 2.337756],\n",
       " [48.841419, 2.338969],\n",
       " [48.841175, 2.339823],\n",
       " [48.841783, 2.340283],\n",
       " [48.842129, 2.340546],\n",
       " [48.842269, 2.340667],\n",
       " [48.842291, 2.340696],\n",
       " [48.842297, 2.340724],\n",
       " [48.8423, 2.340737],\n",
       " [48.842296, 2.340793],\n",
       " [48.842277, 2.34086],\n",
       " [48.842175, 2.341111],\n",
       " [48.842152, 2.341176]]"
      ]
     },
     "execution_count": 288,
     "metadata": {},
     "output_type": "execute_result"
    }
   ],
   "source": [
    "route.way"
   ]
  },
  {
   "cell_type": "code",
   "execution_count": null,
   "id": "f854f957",
   "metadata": {},
   "outputs": [],
   "source": []
  }
 ],
 "metadata": {
  "kernelspec": {
   "display_name": "Python 3 (ipykernel)",
   "language": "python",
   "name": "python3"
  },
  "language_info": {
   "codemirror_mode": {
    "name": "ipython",
    "version": 3
   },
   "file_extension": ".py",
   "mimetype": "text/x-python",
   "name": "python",
   "nbconvert_exporter": "python",
   "pygments_lexer": "ipython3",
   "version": "3.9.5"
  }
 },
 "nbformat": 4,
 "nbformat_minor": 5
}
