{
 "cells": [
  {
   "cell_type": "code",
   "execution_count": null,
   "id": "ca2ef55c",
   "metadata": {
    "lines_to_next_cell": 1
   },
   "outputs": [],
   "source": [
    "import matplotlib.pyplot as plt"
   ]
  },
  {
   "cell_type": "code",
   "execution_count": null,
   "id": "909f0ab5",
   "metadata": {},
   "outputs": [],
   "source": [
    "class Lego :\n",
    "\n",
    "    def __init__(self, taille, couleur):\n",
    "        self.taille = taille\n",
    "        self.couleur = couleur\n",
    "        self.modèle = (taille*2, couleur)\n",
    "\n",
    "    def __repr__(self) -> str:\n",
    "        print(\"ce lego est de couleur \")"
   ]
  },
  {
   "cell_type": "code",
   "execution_count": null,
   "id": "9f7602e8",
   "metadata": {},
   "outputs": [],
   "source": []
  },
  {
   "cell_type": "code",
   "execution_count": null,
   "id": "18c441e3",
   "metadata": {},
   "outputs": [],
   "source": [
    "Lego(4, 'bleue')\n",
    "Lego(6, 'rouge')"
   ]
  },
  {
   "cell_type": "code",
   "execution_count": null,
   "id": "cb405da5",
   "metadata": {
    "lines_to_next_cell": 2
   },
   "outputs": [],
   "source": [
    "print(Lego(4, 'bleue').modèle)"
   ]
  },
  {
   "cell_type": "code",
   "execution_count": null,
   "id": "d2044a6c",
   "metadata": {
    "lines_to_next_cell": 2
   },
   "outputs": [],
   "source": [
    "{1: ['Source', '2', 'Sink'],\n",
    " 2: ['Source', '31', 'Sink'],\n",
    " 3: ['Source', '1', 'Sink'],\n",
    " 4: ['Source', '23', '11', '12', '16', 'Sink'],\n",
    " 5: ['Source', '14', '15', '6', '38', 'Sink'],\n",
    " 6: ['Source', '34', '33', 'Sink'],\n",
    " 7: ['Source', '40', '32', 'Sink'],\n",
    " 8: ['Source', '8', '30', '5', 'Sink']}"
   ]
  },
  {
   "cell_type": "code",
   "execution_count": 45,
   "id": "4cfca61a",
   "metadata": {
    "lines_to_next_cell": 1
   },
   "outputs": [],
   "source": [
    "import time\n",
    "import random"
   ]
  },
  {
   "cell_type": "code",
   "execution_count": 108,
   "id": "6b47e9b5",
   "metadata": {
    "lines_to_next_cell": 1
   },
   "outputs": [],
   "source": [
    "def profit():\n",
    "    l = []\n",
    "    for i in range(100000):\n",
    "        l.append(i**2)\n",
    "    return l"
   ]
  },
  {
   "cell_type": "code",
   "execution_count": 109,
   "id": "065f49a7",
   "metadata": {
    "lines_to_next_cell": 1
   },
   "outputs": [],
   "source": [
    "def loss():\n",
    "    l = []\n",
    "    for i in range(100000) :\n",
    "        l.append(i*2)\n",
    "    return l"
   ]
  },
  {
   "cell_type": "code",
   "execution_count": 110,
   "id": "5a8ecbd1",
   "metadata": {
    "scrolled": true
   },
   "outputs": [],
   "source": [
    "def total(l1, l2):\n",
    "    l = []\n",
    "    for i in range(100000) :\n",
    "        l.append(l1[i] + l2[i])\n",
    "    return l\n"
   ]
  },
  {
   "cell_type": "code",
   "execution_count": 111,
   "id": "01ccb2a3",
   "metadata": {},
   "outputs": [
    {
     "name": "stdout",
     "output_type": "stream",
     "text": [
      "z= 99999999\n",
      "0.12903165817260742\n"
     ]
    }
   ],
   "source": [
    "a = time.time()\n",
    "x = profit()\n",
    "y = loss()\n",
    "z = total(x, y)\n",
    "print(\"z=\", z[9999])\n",
    "b = time.time()\n",
    "print(b-a)"
   ]
  },
  {
   "cell_type": "code",
   "execution_count": 112,
   "id": "495af0d8",
   "metadata": {},
   "outputs": [],
   "source": [
    "import dask\n",
    "profit = dask.delayed(profit)\n",
    "loss = dask.delayed(loss)\n",
    "total = dask.delayed(total)"
   ]
  },
  {
   "cell_type": "code",
   "execution_count": 114,
   "id": "7861da0b",
   "metadata": {},
   "outputs": [
    {
     "name": "stdout",
     "output_type": "stream",
     "text": [
      "a 1655907399.9371192\n",
      "b 1655907399.943374\n",
      "99999999\n",
      "temps d'execution 0.006254673004150391\n",
      "temps d'execution 0.1301712989807129\n"
     ]
    }
   ],
   "source": [
    "a = time.time()\n",
    "print(\"a\", a)\n",
    "x = profit()\n",
    "y = loss()\n",
    "z = total(x, y)\n",
    "b = time.time()\n",
    "print(\"b\", b)\n",
    "\n",
    "print(z.compute()[9999])\n",
    "c = time.time()\n",
    "print(\"temps d'execution\", b-a)\n",
    "print(\"temps d'execution\", c-a)\n",
    "# z.visualize(rankdir='LR')"
   ]
  },
  {
   "cell_type": "code",
   "execution_count": 116,
   "id": "e5e61382",
   "metadata": {},
   "outputs": [],
   "source": [
    "# z.visualize()"
   ]
  },
  {
   "cell_type": "code",
   "execution_count": 117,
   "id": "e3febec0",
   "metadata": {},
   "outputs": [],
   "source": [
    "def profit(x, y):\n",
    "    time.sleep(3)\n",
    "    return x+y"
   ]
  },
  {
   "cell_type": "code",
   "execution_count": 118,
   "id": "4f08560d",
   "metadata": {},
   "outputs": [],
   "source": [
    "def loss(x, y):\n",
    "    time.sleep(3)\n",
    "    return x-y"
   ]
  },
  {
   "cell_type": "code",
   "execution_count": 119,
   "id": "cfaf5cb0",
   "metadata": {},
   "outputs": [],
   "source": [
    "def total(x, y):\n",
    "    time.sleep(3)\n",
    "    return x+y"
   ]
  },
  {
   "cell_type": "code",
   "execution_count": 120,
   "id": "71b05f3d",
   "metadata": {},
   "outputs": [
    {
     "name": "stdout",
     "output_type": "stream",
     "text": [
      "a 1655907987.8462539\n",
      "b 1655907996.8639042\n",
      "temps d'execution 9.017650365829468\n"
     ]
    }
   ],
   "source": [
    "a = time.time()\n",
    "print(\"a\", a)\n",
    "x = profit(15, 20)\n",
    "y = loss(25, 10)\n",
    "z = total(x, y)\n",
    "b = time.time()\n",
    "print(\"b\", b)\n",
    "print(\"temps d'execution\", b-a)"
   ]
  },
  {
   "cell_type": "code",
   "execution_count": 124,
   "id": "c901686a",
   "metadata": {},
   "outputs": [],
   "source": [
    "profit = dask.delayed(profit)\n",
    "loss = dask.delayed(loss)\n",
    "total = dask.delayed(total)"
   ]
  },
  {
   "cell_type": "code",
   "execution_count": 126,
   "id": "8fa4b83c",
   "metadata": {},
   "outputs": [
    {
     "name": "stdout",
     "output_type": "stream",
     "text": [
      "a 1655908139.1008198\n",
      "b 1655908139.1049705\n",
      "50\n",
      "temps d'execution 0.0041506290435791016\n",
      "temps d'execution 6.029587745666504\n"
     ]
    }
   ],
   "source": [
    "a = time.time()\n",
    "print(\"a\", a)\n",
    "x = profit(15, 20)\n",
    "y = loss(25, 10)\n",
    "z = total(x, y)\n",
    "b = time.time()\n",
    "print(\"b\", b)\n",
    "print(z.compute())\n",
    "c = time.time()\n",
    "print(\"temps d'execution\", b-a)\n",
    "print(\"temps d'execution\", c-a)\n",
    "# z.visualize(rankdir='LR')"
   ]
  },
  {
   "cell_type": "code",
   "execution_count": null,
   "id": "c4963a39",
   "metadata": {},
   "outputs": [],
   "source": []
  }
 ],
 "metadata": {
  "jupytext": {
   "cell_metadata_filter": "-all",
   "main_language": "python",
   "notebook_metadata_filter": "-all",
   "text_representation": {
    "extension": ".py",
    "format_name": "light"
   }
  },
  "kernelspec": {
   "display_name": "Python 3 (ipykernel)",
   "language": "python",
   "name": "python3"
  },
  "language_info": {
   "codemirror_mode": {
    "name": "ipython",
    "version": 3
   },
   "file_extension": ".py",
   "mimetype": "text/x-python",
   "name": "python",
   "nbconvert_exporter": "python",
   "pygments_lexer": "ipython3",
   "version": "3.9.5"
  }
 },
 "nbformat": 4,
 "nbformat_minor": 5
}
