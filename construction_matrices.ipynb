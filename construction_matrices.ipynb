{
 "cells": [
  {
   "cell_type": "code",
   "execution_count": 1,
   "metadata": {},
   "outputs": [],
   "source": [
    "def construction_matrices(nodes):\n",
    "    \"\"\"\n",
    "    Cette fonction prend en entrée la liste des noeuds qui ont été prédéfinis. \n",
    "    Elle renvoie d'une part la matrice des itinéraires entre les noeuds et d'autre part la matrice des temps de trajet entre les noeuds. \n",
    "    \"\"\"\n",
    "    N_nodes = len(nodes)\n",
    "    matrix_durations = np.zeros((N_nodes,N_nodes))\n",
    "    liste_itineraires = []\n",
    "    i = 0 \n",
    "    for node_start in nodes : \n",
    "        liste_itineraires.append([])\n",
    "        start_x = nodes[node_start][1] \n",
    "        start_y = nodes[node_start][0]\n",
    "        print(f'i = {i}')\n",
    "        j = 0\n",
    "        for node_end in nodes :\n",
    "            end_x = nodes[node_end][1] \n",
    "            end_y = nodes[node_end][0]\n",
    "            texte = requests.get(\"https://wxs.ign.fr/essentiels/geoportail/itineraire/rest/1.0.0/route?resource=bdtopo-osrm&start=\" + f'{str(start_x)},{str(start_y)}&end={str(end_x)},{str(end_y)}&timeUnit=second')\n",
    "            texte = json.loads(texte.text)\n",
    "            itineraire = texte['geometry']['coordinates']\n",
    "            duration = texte['duration']\n",
    "            matrix_durations[i,j] = duration \n",
    "            for element in itineraire: \n",
    "                if round(element[0]) == 2 : \n",
    "                    p = element[0]\n",
    "                    element[0] = element[1]\n",
    "                    element[1] = p \n",
    "            itineraire_points = change(itineraire,  0.00025, 0.0002, 0.000225)\n",
    "            #il va maintenant falloir modifier cela en liste de noeuds. \n",
    "            itineraire_noeuds = []\n",
    "            for point in itineraire_points :\n",
    "                for node in nodes : \n",
    "                    if node not in itineraire_noeuds and dist(point, nodes[node]) <= 0.00045 : \n",
    "                        itineraire_noeuds.append(node)\n",
    "            liste_itineraires[i].append(itineraire_noeuds) #Donc liste_itineraires[i][j] c'est l'itineraire pour aller de i vers j en parlant en noeud\n",
    "            j+=1\n",
    "        i+=1 \n",
    "    return liste_itineraires, matrix_durations"
   ]
  }
 ],
 "metadata": {
  "interpreter": {
   "hash": "5109f51df95555b83b1fe554bcbb44736eda2ed0a017087975ff74073503cbf0"
  },
  "kernelspec": {
   "display_name": "Python 3.9.9 ('python-advanced-eval')",
   "language": "python",
   "name": "python3"
  },
  "language_info": {
   "codemirror_mode": {
    "name": "ipython",
    "version": 3
   },
   "file_extension": ".py",
   "mimetype": "text/x-python",
   "name": "python",
   "nbconvert_exporter": "python",
   "pygments_lexer": "ipython3",
   "version": "3.9.9"
  },
  "orig_nbformat": 4
 },
 "nbformat": 4,
 "nbformat_minor": 2
}
